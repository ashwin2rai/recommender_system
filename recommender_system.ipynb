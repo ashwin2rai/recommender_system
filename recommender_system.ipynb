{
 "cells": [
  {
   "cell_type": "markdown",
   "metadata": {
    "colab_type": "text",
    "id": "8OcU3stRtD7H"
   },
   "source": [
    "# Recommender System\n",
    "\n",
    "This exercise extends on an example Jupyter notebook with an implementation of a recommender system to suggest movies to users. Data files are collected from the source and used to build the recommender system.\n",
    "\n",
    "The Recommender System calculates movie suggestions for a given user by calculating  similarities between the users latest rated movie(s) and other movies. Similarity between movies is calculated using Pearson coefficient between user ratings of each movie. Similar movies are then ranked in descending order by Pearson coefficient and the first ___x___ movies are taken as recommendations for the user.\n",
    "This is a basic implementation of a Collaborative Filtering system. For example, there is no post processing in case of multiple movies with similar Pearson coefficient (no tie breaker). Also, no other information about the movies or the users (ex. genres or release year).\n",
    "\n",
    "The following extensions are added to develop the example further: \n",
    "\n",
    "1. Split data into train/test and implement the following evaluation metrics for the Recommender System:\n",
    "    * __MAP @ k__: Mean Average Precision where precision @ ___k___ is a percentage of correct items among first ___k___ recommendations.\n",
    "    * __Coverage__: Percentage of movies that can be recommended in the test data.\n",
    "    * __Personalization__: Score indicating how user dissimilar user recommendations are from each other. It is computed as __1 - Cosine Similarity of user recommendations__.\n",
    "2. Improve the Recommender System on at least one of the metrics in __(1)__.\n",
    "3. Document all the modifications to the model and present a comparative report showing the improvement in evaluation metrics."
   ]
  },
  {
   "cell_type": "code",
   "execution_count": 1,
   "metadata": {
    "colab": {},
    "colab_type": "code",
    "id": "BgBmhDiitD7I",
    "outputId": "7a713211-4144-4623-8fed-edb7a3cc53ea"
   },
   "outputs": [
    {
     "name": "stdout",
     "output_type": "stream",
     "text": [
      "Collecting wget\n",
      "  Downloading https://files.pythonhosted.org/packages/47/6a/62e288da7bcda82b935ff0c6cfe542970f04e29c756b0e147251b2fb251f/wget-3.2.zip\n",
      "Building wheels for collected packages: wget\n",
      "  Building wheel for wget (setup.py): started\n",
      "  Building wheel for wget (setup.py): finished with status 'done'\n",
      "  Created wheel for wget: filename=wget-3.2-cp37-none-any.whl size=9686 sha256=4c5b344a8d0284724175e81bb1b641098efea26b4a015bafc0895cdfa40d437c\n",
      "  Stored in directory: C:\\Users\\Ashwin\\AppData\\Local\\pip\\Cache\\wheels\\40\\15\\30\\7d8f7cea2902b4db79e3fea550d7d7b85ecb27ef992b618f3f\n",
      "Successfully built wget\n",
      "Installing collected packages: wget\n",
      "Successfully installed wget-3.2\n"
     ]
    }
   ],
   "source": [
    "!pip install wget"
   ]
  },
  {
   "cell_type": "code",
   "execution_count": 19,
   "metadata": {
    "colab": {},
    "colab_type": "code",
    "id": "xtTQ4_PCGz95"
   },
   "outputs": [],
   "source": [
    "import pandas as pd\n",
    "import numpy as np\n",
    "import zipfile\n",
    "import wget\n",
    "import os.path\n",
    "from os import path\n",
    "from IPython.display import display, HTML\n",
    "import matplotlib.pyplot as plt\n",
    "import pickle\n",
    "import time\n",
    "pd.set_option('display.max_colwidth', -1)"
   ]
  },
  {
   "cell_type": "markdown",
   "metadata": {
    "colab_type": "text",
    "id": "paZUGVUrtD7L"
   },
   "source": [
    "## Download and read the input data\n",
    "* Download data files from 'http://files.grouplens.org/datasets/movielens/'\n",
    "* Reading csv files containing data \n",
    "* \"ratings.csv\" contains all user movie ratings with a timestamp\n",
    "* \"movies.csv\" contains information about teh movies such as the genres"
   ]
  },
  {
   "cell_type": "code",
   "execution_count": 2,
   "metadata": {
    "colab": {},
    "colab_type": "code",
    "id": "974m3DNjtD7N"
   },
   "outputs": [],
   "source": [
    "if  not path.exists(\"ml-20m.zip\"):\n",
    "    url = 'http://files.grouplens.org/datasets/movielens/ml-20m.zip'\n",
    "    filename = wget.download(url)\n",
    "if  not path.exists(\"ml-20m\"):    \n",
    "    with zipfile.ZipFile('ml-20m.zip', 'r') as zip_ref:\n",
    "        zip_ref.extractall('.')\n",
    "all_reviews = pd.read_csv('./ml-20m/ratings.csv')\n",
    "all_items = pd.read_csv('./ml-20m/movies.csv')\n"
   ]
  },
  {
   "cell_type": "markdown",
   "metadata": {
    "colab_type": "text",
    "id": "qwGR3BnjtD7R"
   },
   "source": [
    "## Method to prepare the data\n",
    "* This function creates a user/item matrix with the ratings as values, NaN means no user in row did not rate movie in column"
   ]
  },
  {
   "cell_type": "code",
   "execution_count": 3,
   "metadata": {
    "colab": {},
    "colab_type": "code",
    "id": "2dUnPBwTtD7S"
   },
   "outputs": [],
   "source": [
    "def get_user_item_matrix(sample_size):\n",
    "    reviews = all_reviews.head(int(all_reviews.shape[0]*sample_size))\n",
    "    r = reviews.groupby(['userId','movieId'], as_index=False)['rating'].max()            \n",
    "    data = r[['movieId','userId','rating']]\n",
    "    d_ = data.pivot(index='userId', columns='movieId', values='rating')\n",
    "    matrix = d_.dropna(thresh=2) #remove users that rated less than 2 movies \n",
    "    matrix = matrix.dropna(thresh=10,axis=1) #remove movies that have been rated by less than 10 users\n",
    "    return matrix   "
   ]
  },
  {
   "cell_type": "markdown",
   "metadata": {
    "colab_type": "text",
    "id": "-BE3SlRPtD7U"
   },
   "source": [
    "## Method to calculate the recommendations\n",
    "* This function takes as arguments the user/item matrix, a vector of movie Ids rated by the user (possibly one) and the number of recommendations we would like to have.\n",
    "* It finds correlated movies to the ones rated by the user.\n",
    "* Returns the K most correlated movies (K given as argument)."
   ]
  },
  {
   "cell_type": "code",
   "execution_count": 4,
   "metadata": {
    "colab": {},
    "colab_type": "code",
    "id": "94xSlRYgtD7V"
   },
   "outputs": [],
   "source": [
    "def recommend_items(matrix,user_items,k):\n",
    "    recommended_items = pd.DataFrame(columns=['items','score'])\n",
    "    for item in user_items:\n",
    "        item_vector = matrix[item]\n",
    "        corr_results = matrix.corrwith(item_vector)\n",
    "        corr_results = corr_results.where(corr_results > 0).dropna().sort_values(ascending=False)    \n",
    "        similar_items = pd.DataFrame(corr_results.head(k))\n",
    "        similar_items = similar_items.reset_index()\n",
    "        similar_items.columns =  ['items','score']\n",
    "        recommended_items = pd.concat([recommended_items,similar_items])\n",
    "        if recommended_items[recommended_items.score == 1].shape[0] >= k:\n",
    "                break\n",
    "\n",
    "    if ~recommended_items.empty:  \n",
    "        recommended_items = recommended_items[~recommended_items['items'].isin(user_items)] \n",
    "        recommended_items = recommended_items.sort_values(by=['score'], ascending=False)\n",
    "        recommended_items.drop_duplicates(inplace=True)\n",
    "\n",
    "    return recommended_items.head(k)\n"
   ]
  },
  {
   "cell_type": "markdown",
   "metadata": {
    "colab_type": "text",
    "id": "k7sepeWutD7Y"
   },
   "source": [
    "## Method to display the results\n",
    "* Prints a DataFrame of movies rated by the User\n",
    "* Prints a DataFrame of movies recommended to the User\n"
   ]
  },
  {
   "cell_type": "code",
   "execution_count": 5,
   "metadata": {
    "colab": {},
    "colab_type": "code",
    "id": "IuKE0FV9tD7a"
   },
   "outputs": [],
   "source": [
    "def display_items(item_list):   \n",
    "    display(all_items[all_items['movieId'].isin(item_list)])\n",
    "\n",
    "def show_recommendations(user_id,recommendations,nb_rated_movies):\n",
    "    items_names = all_reviews.loc[all_reviews['userId']==user_id].sort_values(by='timestamp', ascending=False).iloc[:nb_rated_movies]['movieId'].values\n",
    "    #turned into pure list instead of list comprehension\n",
    "    print('\\n\\033[1mUser \\\"{}\\\" latest rated movie:\\033[0m\\n'.format(user_id))\n",
    "    display_items(items_names)\n",
    "    print('\\n\\n\\033[1mRecommendations for user \\\"{}\\\":\\033[0m\\n'.format(user_id))\n",
    "    display_items(recommendations['items'])"
   ]
  },
  {
   "cell_type": "markdown",
   "metadata": {
    "colab_type": "text",
    "id": "0GhtwMo0tD7d"
   },
   "source": [
    "## Method to get the recommendation \n",
    "* Get the latest movied rated by a given User and a user/item matrix\n",
    "* Calls 'recommend_items' with the latest movie rated by the User\n",
    "* Returns the recommendations"
   ]
  },
  {
   "cell_type": "code",
   "execution_count": 7,
   "metadata": {
    "colab": {},
    "colab_type": "code",
    "id": "6B13mZFItD7d"
   },
   "outputs": [],
   "source": [
    "def get_recommendations_pear(user_id,matrix,nb_rated_movies,number_of_recommendations = 5):\n",
    "    success_threshold = 3\n",
    "    usr_vals = all_reviews.loc[all_reviews['userId']==user_id].sort_values(by='timestamp', ascending=False)\n",
    "    items_names = usr_vals[usr_vals['rating']> success_threshold ].iloc[:nb_rated_movies]['movieId'].values     \n",
    "    #changed item_names to include most recent well like movies\n",
    "    recommendations = recommend_items(matrix,items_names,number_of_recommendations)\n",
    "    return recommendations"
   ]
  },
  {
   "cell_type": "code",
   "execution_count": 233,
   "metadata": {
    "colab": {},
    "colab_type": "code",
    "id": "4YOPjNcMtD7g"
   },
   "outputs": [],
   "source": [
    "sample_size=0.005\n",
    "matrix = get_user_item_matrix(sample_size)\n",
    "nonan_matrix = matrix.replace(np.nan,-1)"
   ]
  },
  {
   "cell_type": "code",
   "execution_count": 237,
   "metadata": {
    "colab": {
     "base_uri": "https://localhost:8080/",
     "height": 34
    },
    "colab_type": "code",
    "id": "rQ8PSD60tD7i",
    "outputId": "c01e1e7a-133a-4f06-fd84-d807af4c7a02"
   },
   "outputs": [
    {
     "name": "stdout",
     "output_type": "stream",
     "text": [
      "\n",
      "\u001b[1mUser \"2\" latest rated movie:\u001b[0m\n",
      "\n"
     ]
    },
    {
     "data": {
      "text/html": [
       "<div>\n",
       "<style scoped>\n",
       "    .dataframe tbody tr th:only-of-type {\n",
       "        vertical-align: middle;\n",
       "    }\n",
       "\n",
       "    .dataframe tbody tr th {\n",
       "        vertical-align: top;\n",
       "    }\n",
       "\n",
       "    .dataframe thead th {\n",
       "        text-align: right;\n",
       "    }\n",
       "</style>\n",
       "<table border=\"1\" class=\"dataframe\">\n",
       "  <thead>\n",
       "    <tr style=\"text-align: right;\">\n",
       "      <th></th>\n",
       "      <th>movieId</th>\n",
       "      <th>title</th>\n",
       "      <th>genres</th>\n",
       "    </tr>\n",
       "  </thead>\n",
       "  <tbody>\n",
       "    <tr>\n",
       "      <td>907</td>\n",
       "      <td>924</td>\n",
       "      <td>2001: A Space Odyssey (1968)</td>\n",
       "      <td>Adventure|Drama|Sci-Fi</td>\n",
       "    </tr>\n",
       "    <tr>\n",
       "      <td>1242</td>\n",
       "      <td>1270</td>\n",
       "      <td>Back to the Future (1985)</td>\n",
       "      <td>Adventure|Comedy|Sci-Fi</td>\n",
       "    </tr>\n",
       "    <tr>\n",
       "      <td>1684</td>\n",
       "      <td>1748</td>\n",
       "      <td>Dark City (1998)</td>\n",
       "      <td>Adventure|Film-Noir|Sci-Fi|Thriller</td>\n",
       "    </tr>\n",
       "  </tbody>\n",
       "</table>\n",
       "</div>"
      ],
      "text/plain": [
       "      movieId                         title  \\\n",
       "907   924      2001: A Space Odyssey (1968)   \n",
       "1242  1270     Back to the Future (1985)      \n",
       "1684  1748     Dark City (1998)               \n",
       "\n",
       "                                   genres  \n",
       "907   Adventure|Drama|Sci-Fi               \n",
       "1242  Adventure|Comedy|Sci-Fi              \n",
       "1684  Adventure|Film-Noir|Sci-Fi|Thriller  "
      ]
     },
     "metadata": {},
     "output_type": "display_data"
    },
    {
     "name": "stdout",
     "output_type": "stream",
     "text": [
      "\n",
      "\n",
      "\u001b[1mRecommendations for user \"2\":\u001b[0m\n",
      "\n"
     ]
    },
    {
     "data": {
      "text/html": [
       "<div>\n",
       "<style scoped>\n",
       "    .dataframe tbody tr th:only-of-type {\n",
       "        vertical-align: middle;\n",
       "    }\n",
       "\n",
       "    .dataframe tbody tr th {\n",
       "        vertical-align: top;\n",
       "    }\n",
       "\n",
       "    .dataframe thead th {\n",
       "        text-align: right;\n",
       "    }\n",
       "</style>\n",
       "<table border=\"1\" class=\"dataframe\">\n",
       "  <thead>\n",
       "    <tr style=\"text-align: right;\">\n",
       "      <th></th>\n",
       "      <th>movieId</th>\n",
       "      <th>title</th>\n",
       "      <th>genres</th>\n",
       "    </tr>\n",
       "  </thead>\n",
       "  <tbody>\n",
       "    <tr>\n",
       "      <td>1171</td>\n",
       "      <td>1196</td>\n",
       "      <td>Star Wars: Episode V - The Empire Strikes Back (1980)</td>\n",
       "      <td>Action|Adventure|Sci-Fi</td>\n",
       "    </tr>\n",
       "    <tr>\n",
       "      <td>1180</td>\n",
       "      <td>1206</td>\n",
       "      <td>Clockwork Orange, A (1971)</td>\n",
       "      <td>Crime|Drama|Sci-Fi|Thriller</td>\n",
       "    </tr>\n",
       "    <tr>\n",
       "      <td>1212</td>\n",
       "      <td>1240</td>\n",
       "      <td>Terminator, The (1984)</td>\n",
       "      <td>Action|Sci-Fi|Thriller</td>\n",
       "    </tr>\n",
       "    <tr>\n",
       "      <td>1263</td>\n",
       "      <td>1291</td>\n",
       "      <td>Indiana Jones and the Last Crusade (1989)</td>\n",
       "      <td>Action|Adventure</td>\n",
       "    </tr>\n",
       "    <tr>\n",
       "      <td>1927</td>\n",
       "      <td>2011</td>\n",
       "      <td>Back to the Future Part II (1989)</td>\n",
       "      <td>Adventure|Comedy|Sci-Fi</td>\n",
       "    </tr>\n",
       "  </tbody>\n",
       "</table>\n",
       "</div>"
      ],
      "text/plain": [
       "      movieId                                                  title  \\\n",
       "1171  1196     Star Wars: Episode V - The Empire Strikes Back (1980)   \n",
       "1180  1206     Clockwork Orange, A (1971)                              \n",
       "1212  1240     Terminator, The (1984)                                  \n",
       "1263  1291     Indiana Jones and the Last Crusade (1989)               \n",
       "1927  2011     Back to the Future Part II (1989)                       \n",
       "\n",
       "                           genres  \n",
       "1171  Action|Adventure|Sci-Fi      \n",
       "1180  Crime|Drama|Sci-Fi|Thriller  \n",
       "1212  Action|Sci-Fi|Thriller       \n",
       "1263  Action|Adventure             \n",
       "1927  Adventure|Comedy|Sci-Fi      "
      ]
     },
     "metadata": {},
     "output_type": "display_data"
    }
   ],
   "source": [
    "user_id = 2\n",
    "nb_last_rated_movies = 3\n",
    "number_of_recommendations = 5\n",
    "#made number_of_recommendations public facing\n",
    "try:\n",
    "    recommendations = get_recommendations_pear(user_id,nonan_matrix, nb_last_rated_movies, number_of_recommendations)\n",
    "    show_recommendations(user_id,recommendations,nb_last_rated_movies)\n",
    "except:\n",
    "    print('{} is an invalid User ID. Please enter a user ID between {} and {}.'.format(user_id,1,len(matrix.index.unique()))) \n",
    "    #changed error parameters"
   ]
  },
  {
   "cell_type": "markdown",
   "metadata": {},
   "source": [
    "## Method to split the data into train and test set\n",
    "* Splits data by user/item matrix where a certain fraction of users will be separated\n",
    "* method returns a tuple: (training set matrix, testing set matrix)\n"
   ]
  },
  {
   "cell_type": "code",
   "execution_count": 8,
   "metadata": {},
   "outputs": [],
   "source": [
    "def train_test_split(matrix, split):\n",
    "    split_len = int(matrix.shape[0]*(1-split))\n",
    "    train_index = matrix.index[:split_len]   \n",
    "    test_index = matrix.index[split_len:]\n",
    "    return (matrix.loc[train_index,:], matrix.loc[test_index,:])\n",
    " "
   ]
  },
  {
   "cell_type": "markdown",
   "metadata": {},
   "source": [
    "## Method to support cross validation, split data into kth fold\n",
    "* Splits user/item matrix into the kth fold crossvalidation set\n",
    "* Arguments: matrix to be split, k number of folds, current fold cur\n",
    "\n",
    "<i>is not currently in use </i>"
   ]
  },
  {
   "cell_type": "code",
   "execution_count": 9,
   "metadata": {},
   "outputs": [],
   "source": [
    "def crossval_mat(matrix, k, cur):\n",
    "    indx = np.array_split(matrix.index.values, k)\n",
    "    train_inds = [i for i in range(0,k) if i != cur] #list of [0,1,2...] except for the kth fold in the list\n",
    "    train_arr = np.array([])\n",
    "    for inds in train_inds:\n",
    "        train_arr = np.append(train_arr, indx[inds])\n",
    "    return(matrix.loc[train_arr.astype(int),:], matrix.loc[indx[cur],:])\n",
    "    "
   ]
  },
  {
   "cell_type": "markdown",
   "metadata": {},
   "source": [
    "## Utility function to create a list of predictions\n",
    "* Utility function used to create a list of lists of predictions\n",
    "* Each list contains movie_id of recommendations where recommendations are found using models\n",
    "* Switch meth can be used to switch between Pearson model or NMF model"
   ]
  },
  {
   "cell_type": "code",
   "execution_count": 33,
   "metadata": {},
   "outputs": [],
   "source": [
    "def list_of_predictions(matrix, train_matrix, nb_last_rated_movies, number_of_recommendations, meth = 'pear'):\n",
    "    predicted = []\n",
    "    verbose = False\n",
    "    for i in matrix.index:\n",
    "        if verbose:\n",
    "            print('Current user_id under investigation: '+ str(i))\n",
    "        try:\n",
    "            if meth == 'pear':\n",
    "                predicted.append(get_recommendations_pear(i,train_matrix.fillna(-1), nb_last_rated_movies, number_of_recommendations)['items'].values.astype(int))\n",
    "            elif meth == 'nmf':\n",
    "                predicted.append(get_recommendations_nmf(i,train_matrix.fillna(0), nb_last_rated_movies, number_of_recommendations)['items'].values.astype(int))\n",
    "        except:\n",
    "            predicted.append(np.array([]))       \n",
    "    return predicted    "
   ]
  },
  {
   "cell_type": "markdown",
   "metadata": {},
   "source": [
    "## Methods to calculate MAP @ K\n",
    "* Finds 'actual' results by counting movies rated greater than a success threshold\n",
    "* Function mapk_matrix is the primary api\n",
    "* arguments to the function includes list of lists of predictions\n",
    "* list of lists should be ordered by user_id in testing set\n",
    "* argument also includes testing user/item matrix\n"
   ]
  },
  {
   "cell_type": "code",
   "execution_count": 28,
   "metadata": {},
   "outputs": [],
   "source": [
    "#modified from https://github.com/benhamner/Metrics/blob/master/Python/ml_metrics/average_precision.py\n",
    "\n",
    "def _apk(actual, predicted, k=10):\n",
    "    \n",
    "    #short circuit if predicted or actual is empty\n",
    "    if not actual.size or not predicted.size:\n",
    "        return 0.0\n",
    "\n",
    "    score = 0.0\n",
    "    num_hits = 0.0\n",
    "    for i,p in enumerate(predicted):\n",
    "        if p in actual and p not in predicted[:i]:\n",
    "            num_hits += 1.0\n",
    "            score += num_hits / (i+1.0)\n",
    "\n",
    "    return score / min(len(actual), k)\n",
    "\n",
    "def _mapk(actual, predicted, k=10):\n",
    "    return np.mean([_apk(a,p,k) for a,p in zip(actual, predicted)])\n",
    "\n",
    "def mapk_matrix(matrix, predicted, number_of_recommendations, nb_rated_movies):\n",
    "    actual = []\n",
    "    success_threshold = 3\n",
    "    for i in matrix.index:\n",
    "        #below two code lines finds all movies that the user rated above a success threshold\n",
    "        #EXCEPT for movies being used to find similarities defined by 'nb_rated_movies'\n",
    "        usr_vals = all_reviews.loc[all_reviews['userId']==i].sort_values(by='timestamp', ascending=False)\n",
    "        items_names = usr_vals[usr_vals['rating']> success_threshold ].iloc[nb_rated_movies:]['movieId'].values     \n",
    "        actual.append(items_names)\n",
    "    \n",
    "    return _mapk(actual, predicted, number_of_recommendations)"
   ]
  },
  {
   "cell_type": "markdown",
   "metadata": {},
   "source": [
    "## Method to calculate Coverage\n",
    "* Using list of lists of predictions and all possible movie_ids, coverage is calculated\n",
    "* Datastructure 'set' is used to quickly find unique movie_ids\n"
   ]
  },
  {
   "cell_type": "code",
   "execution_count": 12,
   "metadata": {},
   "outputs": [],
   "source": [
    "def coverage(predicted, train_matrix):\n",
    "    all_mov = len(set(train_matrix.columns.values))\n",
    "    predicted_set = len(set(np.concatenate(predicted).astype(int)))\n",
    "    return predicted_set/all_mov\n",
    "    "
   ]
  },
  {
   "cell_type": "markdown",
   "metadata": {},
   "source": [
    "## Method to calculate Personalization\n",
    "* The testing set and list of lists of predictions is used to calculate personalization\n",
    "* binary indicator matrix is created to find which movies were recommended to each user in test set\n",
    "* cosine similarity matrix between users is then found and upper triangle (w/o diagonal) average is found\n",
    "* 1- average of the upper triangle of the cosine similarity matrix is the personalization"
   ]
  },
  {
   "cell_type": "code",
   "execution_count": 13,
   "metadata": {},
   "outputs": [],
   "source": [
    "def personalization(test, predicted):\n",
    "    from sklearn.metrics.pairwise import cosine_similarity\n",
    "\n",
    "    test_cp = test.copy()    \n",
    "    for col in test_cp.columns:\n",
    "        test_cp[col].values[:] = np.nan\n",
    "\n",
    "    ctr = 0\n",
    "    for pred in predicted:\n",
    "        idx = test_cp.index[ctr]\n",
    "        for mov in pred:\n",
    "            test_cp.loc[idx,mov] = 1\n",
    "        ctr += 1\n",
    "    \n",
    "    cos_sim_ut = np.triu(cosine_similarity(test_cp.fillna(0)),1)\n",
    "    del test_cp\n",
    "    return (1 - (sum(sum(cos_sim_ut))/sum(sum(cos_sim_ut>0))))"
   ]
  },
  {
   "cell_type": "code",
   "execution_count": 53,
   "metadata": {},
   "outputs": [],
   "source": [
    "scores = pd.DataFrame({'map5':[0,0,0,0],'coverage':[0,0,0,0],'personalization':[0,0,0,0],'time':[0,0,0,0]},index=['pearson','pearson_nopop','nmf','nmf_nopop'])"
   ]
  },
  {
   "cell_type": "markdown",
   "metadata": {},
   "source": [
    "## Example script for calculating all measures using Pearson similarity\n",
    "* test set recommendations calculated by the pearson similarity scores are meausred using all three metrics\n",
    "* time to run the script is also calculated "
   ]
  },
  {
   "cell_type": "code",
   "execution_count": 54,
   "metadata": {
    "scrolled": true
   },
   "outputs": [
    {
     "name": "stdout",
     "output_type": "stream",
     "text": [
      "The MAP @ 5 measure is: 0.0722432859399684 \n",
      "The Coverage measure is: 0.20027560863573726 \n",
      "The Personalization measure is: 0.729781662947234 \n",
      "Time: 494.37110328674316\n"
     ]
    }
   ],
   "source": [
    "tm = time.time()\n",
    "sample_size=0.005\n",
    "nb_last_rated_movies = 3\n",
    "number_of_recommendations = 5\n",
    "\n",
    "matrix = get_user_item_matrix(sample_size)\n",
    "train,test = train_test_split(matrix, 0.3)\n",
    "\n",
    "predicted = list_of_predictions(test, train, nb_last_rated_movies, number_of_recommendations)\n",
    "map_k = mapk_matrix(test, predicted, number_of_recommendations, nb_last_rated_movies)\n",
    "\n",
    "scores.loc['pearson','map5'] = map_k\n",
    "scores.loc['pearson','coverage'] = coverage(predicted, train)\n",
    "scores.loc['pearson','personalization'] = personalization(test, predicted)\n",
    "scores.loc['pearson','time'] = time.time()-tm\n",
    "\n",
    "print('The MAP @ {} measure is: {} '.format(number_of_recommendations, map_k))\n",
    "print('The Coverage measure is: {} '.format(scores.loc['pearson','coverage']))\n",
    "print('The Personalization measure is: {} '.format(scores.loc['pearson','personalization']))\n",
    "print('Time: ' + str(scores.loc['pearson','time']))"
   ]
  },
  {
   "cell_type": "markdown",
   "metadata": {},
   "source": [
    "## Removing very popular movies\n",
    "* Long tail plots show some movies are very popular, biasing recommemdations and can be removed\n",
    "* All measures are calculated after removing very popular movies that have been rated by more than 20% of the users"
   ]
  },
  {
   "cell_type": "code",
   "execution_count": 55,
   "metadata": {},
   "outputs": [
    {
     "data": {
      "image/png": "[encoded data removed]",
      "text/plain": [
       "<Figure size 432x288 with 1 Axes>"
      ]
     },
     "metadata": {
      "needs_background": "light"
     },
     "output_type": "display_data"
    },
    {
     "data": {
      "image/png": "[encoded data removed]",
      "text/plain": [
       "<Figure size 432x288 with 1 Axes>"
      ]
     },
     "metadata": {
      "needs_background": "light"
     },
     "output_type": "display_data"
    }
   ],
   "source": [
    "pop_movs = matrix.notnull().sum().sort_values(ascending=False)/matrix.shape[0]\n",
    "\n",
    "#-----------------\n",
    "plt.plot(pop_movs.values,'.-')\n",
    "frame1 = plt.gca()\n",
    "frame1.axes.get_xaxis().set_visible(False)\n",
    "plt.title('Long tail plot - original; x-axis is movie-ids')\n",
    "plt.ylabel('Fraction of users that rated movie')\n",
    "plt.show()\n",
    "\n",
    "#-----------------\n",
    "\n",
    "pop_movs = matrix.drop(pop_movs[pop_movs > .2].index,axis=1).notnull().sum().sort_values(ascending=False)/matrix.shape[0]\n",
    "#-----------------\n",
    "plt.plot(pop_movs.values,'.-')\n",
    "frame1 = plt.gca()\n",
    "frame1.axes.get_xaxis().set_visible(False)\n",
    "plt.title('Long tail plot - after removing movies; x-axis is movie-ids')\n",
    "plt.ylabel('Fraction of users that rated movie')\n",
    "plt.show()\n",
    "#-----------------\n"
   ]
  },
  {
   "cell_type": "code",
   "execution_count": 56,
   "metadata": {},
   "outputs": [
    {
     "name": "stdout",
     "output_type": "stream",
     "text": [
      "The MAP @ 5 measure is: 0.030489731437598734 \n",
      "The Coverage measure is: 0.16223908918406071 \n",
      "The Personalization measure is: 0.7523846347641358 \n",
      "Time: 352.3970341682434\n"
     ]
    }
   ],
   "source": [
    "tm = time.time()\n",
    "\n",
    "pop_movs = matrix.notnull().sum().sort_values(ascending=False)/matrix.shape[0]\n",
    "matrix = matrix.drop(pop_movs[pop_movs > .2].index,axis=1)\n",
    "\n",
    "train,test = train_test_split(matrix, 0.3)\n",
    "predicted = list_of_predictions(test, train, nb_last_rated_movies,number_of_recommendations)\n",
    "map_k = mapk_matrix(test, predicted, number_of_recommendations, nb_last_rated_movies)\n",
    "\n",
    "scores.loc['pearson_nopop','map5'] = map_k\n",
    "scores.loc['pearson_nopop','coverage'] = coverage(predicted, train)\n",
    "scores.loc['pearson_nopop','personalization'] = personalization(test, predicted)\n",
    "scores.loc['pearson_nopop','time'] = time.time()-tm\n",
    "\n",
    "print('The MAP @ {} measure is: {} '.format(number_of_recommendations, map_k))\n",
    "print('The Coverage measure is: {} '.format(scores.loc['pearson_nopop','coverage']))\n",
    "print('The Personalization measure is: {} '.format(scores.loc['pearson_nopop','personalization']))\n",
    "print('Time: ' + str(scores.loc['pearson_nopop','time']))"
   ]
  },
  {
   "cell_type": "markdown",
   "metadata": {},
   "source": [
    "## Finding similarities using non-negative matrix factorization (NMF)\n",
    "* Find factorized matrix: movie/factor\n",
    "* Find similarities of most recent highly rated user selected movies using factorized matrix\n",
    "* Return movies 5 highest scoring movies\n",
    "* 50 components used in example\n",
    "* Once factorized matrix is calculated, it is saved as a pickled file and will be loaded when needed; saves computational time re-calculating matrix\n"
   ]
  },
  {
   "cell_type": "code",
   "execution_count": 40,
   "metadata": {},
   "outputs": [],
   "source": [
    "def get_recommendations_nmf(user_id,matrix,nb_rated_movies,number_of_recommendations = 5):\n",
    "    success_threshold = 3\n",
    "    usr_vals = all_reviews.loc[all_reviews['userId']==user_id].sort_values(by='timestamp', ascending=False)\n",
    "    items_names = usr_vals[usr_vals['rating']> success_threshold ].iloc[:nb_rated_movies]['movieId'].values     \n",
    "    #changed item_names to include most recent well like movies\n",
    "    recommendations = recommend_nmf(matrix, items_names, number_of_recommendations, 50)\n",
    "    return recommendations\n",
    "\n",
    "def recommend_nmf(matrix, items_names, number_of_recommendations, nmf_comp=20):\n",
    "\n",
    "    if  path.exists(\"train.raw\"):\n",
    "        df = pickle.load(open(\"train.raw\", \"rb\")) #loaded previously calculated factor matrix\n",
    "    else:\n",
    "        from sklearn.pipeline import make_pipeline\n",
    "        from sklearn.decomposition import NMF\n",
    "        from sklearn.preprocessing import Normalizer,MaxAbsScaler\n",
    "\n",
    "        scaler = MaxAbsScaler()\n",
    "        nmf = NMF(n_components=nmf_comp)\n",
    "        normalizer = Normalizer()\n",
    "        pipeline = make_pipeline(scaler,nmf,normalizer)\n",
    "        norm_features = pipeline.fit_transform(matrix.T.fillna(0)) #transpose to create movie/factor matrix\n",
    "        df = pd.DataFrame(norm_features)\n",
    "        df.index = train.T.index \n",
    "        pickle.dump(df, open(\"train.raw\", 'wb'))\n",
    "    \n",
    "    recommended_items = pd.DataFrame(columns=['items','score'])\n",
    "    \n",
    "    for name in items_names:\n",
    "        if name in df.index:\n",
    "            similar_items = df.dot(df.loc[name]).nlargest(6)[1:].reset_index()\n",
    "            similar_items.columns =  ['items','score']\n",
    "            recommended_items = pd.merge(recommended_items,similar_items,how='outer')\n",
    "    \n",
    "    recommended_items = recommended_items.sort_values(by=['score'],ascending=False).reset_index(drop=True)\n",
    "    \n",
    "    #Below loop removed movie_ids that were used to find similarities from recommendations\n",
    "    for name in items_names:\n",
    "        recommended_items = recommended_items.drop(recommended_items[recommended_items['items'] == name].index)\n",
    "    \n",
    "    return recommended_items.head(number_of_recommendations)"
   ]
  },
  {
   "cell_type": "markdown",
   "metadata": {},
   "source": [
    "## Example script for calculating all measures using NMF similarity\n",
    "* test set recommendations calculated by the NMF similarity scores are meausred using all three metrics\n",
    "* time to run the script is also calculated "
   ]
  },
  {
   "cell_type": "code",
   "execution_count": 57,
   "metadata": {},
   "outputs": [
    {
     "name": "stdout",
     "output_type": "stream",
     "text": [
      "The MAP @ 5 measure is: 0.09101105845181674 \n",
      "The Coverage measure is: 0.264584290307763 \n",
      "The Personalization measure is: 0.7147178932708856 \n",
      "Time: 50.166861057281494\n"
     ]
    }
   ],
   "source": [
    "tm = time.time()\n",
    "try:\n",
    "    os.remove(\"train.raw\")\n",
    "except:\n",
    "    pass\n",
    "\n",
    "sample_size=0.005\n",
    "nb_last_rated_movies = 3\n",
    "number_of_recommendations = 5\n",
    "\n",
    "matrix = get_user_item_matrix(sample_size)\n",
    "train,test = train_test_split(matrix, 0.3)\n",
    "\n",
    "predicted = list_of_predictions(test, train, nb_last_rated_movies,number_of_recommendations, meth = 'nmf')\n",
    "map_k = mapk_matrix(test, predicted, number_of_recommendations, nb_last_rated_movies)\n",
    "\n",
    "scores.loc['nmf','map5'] = map_k\n",
    "scores.loc['nmf','coverage'] = coverage(predicted, train)\n",
    "scores.loc['nmf','personalization'] = personalization(test, predicted)\n",
    "scores.loc['nmf','time'] = time.time()-tm\n",
    "\n",
    "print('The MAP @ {} measure is: {} '.format(number_of_recommendations, map_k))\n",
    "print('The Coverage measure is: {} '.format(scores.loc['nmf','coverage']))\n",
    "print('The Personalization measure is: {} '.format(scores.loc['nmf','personalization']))\n",
    "print('Time: '+str(scores.loc['nmf','time']))"
   ]
  },
  {
   "cell_type": "markdown",
   "metadata": {},
   "source": [
    "## NMF Similarities after removing very popular movies\n",
    "* Long tail plots show some movies are very popular, biasing recommemdations and can be removed\n",
    "* All measures are calculated after removing very popular movies that have been rated by more than 20% of the users"
   ]
  },
  {
   "cell_type": "code",
   "execution_count": 59,
   "metadata": {},
   "outputs": [
    {
     "name": "stdout",
     "output_type": "stream",
     "text": [
      "The MAP @ 5 measure is: 0.06617693522906792 \n",
      "The Coverage measure is: 0.28225806451612906 \n",
      "The Personalization measure is: 0.7428610021466879 \n",
      "Time: 47.21936392784119\n"
     ]
    }
   ],
   "source": [
    "tm = time.time()\n",
    "try:\n",
    "    os.remove(\"train.raw\")\n",
    "except:\n",
    "    pass\n",
    "\n",
    "sample_size=0.005\n",
    "nb_last_rated_movies = 3\n",
    "number_of_recommendations = 5\n",
    "\n",
    "matrix = get_user_item_matrix(sample_size)\n",
    "pop_movs = matrix.notnull().sum().sort_values(ascending=False)/matrix.shape[0]\n",
    "matrix = matrix.drop(pop_movs[pop_movs > .2].index,axis=1)\n",
    "train,test = train_test_split(matrix, 0.3)\n",
    "\n",
    "predicted = list_of_predictions(test, train, nb_last_rated_movies,number_of_recommendations, meth = 'nmf')\n",
    "map_k = mapk_matrix(test, predicted, number_of_recommendations, nb_last_rated_movies)\n",
    "\n",
    "scores.loc['nmf_nopop','map5'] = map_k\n",
    "scores.loc['nmf_nopop','coverage'] = coverage(predicted, train)\n",
    "scores.loc['nmf_nopop','personalization'] = personalization(test, predicted)\n",
    "scores.loc['nmf_nopop','time'] = time.time()-tm\n",
    "\n",
    "print('The MAP @ {} measure is: {} '.format(number_of_recommendations, map_k))\n",
    "print('The Coverage measure is: {} '.format(scores.loc['nmf_nopop','coverage']))\n",
    "print('The Personalization measure is: {} '.format(scores.loc['nmf_nopop','personalization']))\n",
    "print('Time: ' + str(scores.loc['nmf_nopop','time']))"
   ]
  },
  {
   "cell_type": "markdown",
   "metadata": {},
   "source": [
    "## Comparison report\n",
    "* The four different methods illustrated here are compared"
   ]
  },
  {
   "cell_type": "code",
   "execution_count": 93,
   "metadata": {},
   "outputs": [
    {
     "data": {
      "text/html": [
       "<div>\n",
       "<style scoped>\n",
       "    .dataframe tbody tr th:only-of-type {\n",
       "        vertical-align: middle;\n",
       "    }\n",
       "\n",
       "    .dataframe tbody tr th {\n",
       "        vertical-align: top;\n",
       "    }\n",
       "\n",
       "    .dataframe thead th {\n",
       "        text-align: right;\n",
       "    }\n",
       "</style>\n",
       "<table border=\"1\" class=\"dataframe\">\n",
       "  <thead>\n",
       "    <tr style=\"text-align: right;\">\n",
       "      <th></th>\n",
       "      <th>map5</th>\n",
       "      <th>coverage</th>\n",
       "      <th>personalization</th>\n",
       "      <th>time</th>\n",
       "    </tr>\n",
       "  </thead>\n",
       "  <tbody>\n",
       "    <tr>\n",
       "      <td>pearson</td>\n",
       "      <td>0.072243</td>\n",
       "      <td>0.200276</td>\n",
       "      <td>0.729782</td>\n",
       "      <td>494.371103</td>\n",
       "    </tr>\n",
       "    <tr>\n",
       "      <td>pearson_nopop</td>\n",
       "      <td>0.030490</td>\n",
       "      <td>0.162239</td>\n",
       "      <td>0.752385</td>\n",
       "      <td>352.397034</td>\n",
       "    </tr>\n",
       "    <tr>\n",
       "      <td>nmf</td>\n",
       "      <td>0.091011</td>\n",
       "      <td>0.264584</td>\n",
       "      <td>0.714718</td>\n",
       "      <td>50.166861</td>\n",
       "    </tr>\n",
       "    <tr>\n",
       "      <td>nmf_nopop</td>\n",
       "      <td>0.066177</td>\n",
       "      <td>0.282258</td>\n",
       "      <td>0.742861</td>\n",
       "      <td>47.219364</td>\n",
       "    </tr>\n",
       "  </tbody>\n",
       "</table>\n",
       "</div>"
      ],
      "text/plain": [
       "                   map5  coverage  personalization        time\n",
       "pearson        0.072243  0.200276  0.729782         494.371103\n",
       "pearson_nopop  0.030490  0.162239  0.752385         352.397034\n",
       "nmf            0.091011  0.264584  0.714718         50.166861 \n",
       "nmf_nopop      0.066177  0.282258  0.742861         47.219364 "
      ]
     },
     "execution_count": 93,
     "metadata": {},
     "output_type": "execute_result"
    }
   ],
   "source": [
    "scores"
   ]
  },
  {
   "cell_type": "markdown",
   "metadata": {},
   "source": [
    "### MaP @ 5 metric"
   ]
  },
  {
   "cell_type": "code",
   "execution_count": 89,
   "metadata": {},
   "outputs": [
    {
     "data": {
      "image/png": "[encoded data removed]",
      "text/plain": [
       "<Figure size 432x288 with 1 Axes>"
      ]
     },
     "metadata": {
      "needs_background": "light"
     },
     "output_type": "display_data"
    },
    {
     "data": {
      "image/png": "[encoded data removed]",
      "text/plain": [
       "<Figure size 432x288 with 1 Axes>"
      ]
     },
     "metadata": {
      "needs_background": "light"
     },
     "output_type": "display_data"
    },
    {
     "data": {
      "text/plain": [
       "pearson          0.000000 \n",
       "pearson_nopop   -57.795758\n",
       "nmf              25.978570\n",
       "nmf_nopop       -8.397113 \n",
       "Name: map5, dtype: float64"
      ]
     },
     "execution_count": 89,
     "metadata": {},
     "output_type": "execute_result"
    }
   ],
   "source": [
    "scores['map5'].plot.bar(rot=45)\n",
    "plt.title('MaP @ 5 comparisons')\n",
    "plt.show()\n",
    "\n",
    "map5 = (scores.iloc[:,0] - scores.iloc[0,0]).div(scores.iloc[0,0]).mul(100)\n",
    "map5[1:].plot.bar()\n",
    "plt.title('Difference in MaP @ 5 compared to baseline (%)')\n",
    "plt.show()\n",
    "\n",
    "map5"
   ]
  },
  {
   "cell_type": "markdown",
   "metadata": {},
   "source": [
    "### Coverage"
   ]
  },
  {
   "cell_type": "code",
   "execution_count": 90,
   "metadata": {},
   "outputs": [
    {
     "data": {
      "image/png": "[encoded data removed]",
      "text/plain": [
       "<Figure size 432x288 with 1 Axes>"
      ]
     },
     "metadata": {
      "needs_background": "light"
     },
     "output_type": "display_data"
    },
    {
     "data": {
      "image/png": "[encoded data removed]",
      "text/plain": [
       "<Figure size 432x288 with 1 Axes>"
      ]
     },
     "metadata": {
      "needs_background": "light"
     },
     "output_type": "display_data"
    },
    {
     "data": {
      "text/plain": [
       "pearson          0.000000 \n",
       "pearson_nopop   -18.992088\n",
       "nmf              32.110092\n",
       "nmf_nopop        40.934818\n",
       "Name: coverage, dtype: float64"
      ]
     },
     "execution_count": 90,
     "metadata": {},
     "output_type": "execute_result"
    }
   ],
   "source": [
    "scores['coverage'].plot.bar(rot=45)\n",
    "plt.title('Coverage comparisons')\n",
    "plt.show()\n",
    "\n",
    "cov = (scores.iloc[:,1] - scores.iloc[0,1]).div(scores.iloc[0,1]).mul(100)\n",
    "cov[1:].plot.bar()\n",
    "plt.title('Difference in Coverage compared to baseline (%)')\n",
    "plt.show()\n",
    "\n",
    "cov"
   ]
  },
  {
   "cell_type": "markdown",
   "metadata": {},
   "source": [
    "### Personalization"
   ]
  },
  {
   "cell_type": "code",
   "execution_count": 91,
   "metadata": {},
   "outputs": [
    {
     "data": {
      "image/png": "[encoded data removed]",
      "text/plain": [
       "<Figure size 432x288 with 1 Axes>"
      ]
     },
     "metadata": {
      "needs_background": "light"
     },
     "output_type": "display_data"
    },
    {
     "data": {
      "image/png": "[encoded data removed]",
      "text/plain": [
       "<Figure size 432x288 with 1 Axes>"
      ]
     },
     "metadata": {
      "needs_background": "light"
     },
     "output_type": "display_data"
    },
    {
     "data": {
      "text/plain": [
       "pearson          0.000000\n",
       "pearson_nopop    3.097224\n",
       "nmf             -2.064147\n",
       "nmf_nopop        1.792226\n",
       "Name: personalization, dtype: float64"
      ]
     },
     "execution_count": 91,
     "metadata": {},
     "output_type": "execute_result"
    }
   ],
   "source": [
    "scores['personalization'].plot.bar(rot=45)\n",
    "plt.title('Personalization comparisons')\n",
    "plt.show()\n",
    "\n",
    "per = (scores.iloc[:,2] - scores.iloc[0,2]).div(scores.iloc[0,2]).mul(100)\n",
    "per[1:].plot.bar()\n",
    "plt.title('Difference in Personalization compared to baseline (%)')\n",
    "plt.show()\n",
    "\n",
    "per"
   ]
  },
  {
   "cell_type": "markdown",
   "metadata": {},
   "source": [
    "### Computational time"
   ]
  },
  {
   "cell_type": "code",
   "execution_count": 92,
   "metadata": {},
   "outputs": [
    {
     "data": {
      "image/png": "[encoded data removed]",
      "text/plain": [
       "<Figure size 432x288 with 1 Axes>"
      ]
     },
     "metadata": {
      "needs_background": "light"
     },
     "output_type": "display_data"
    },
    {
     "data": {
      "image/png": "[encoded data removed]",
      "text/plain": [
       "<Figure size 432x288 with 1 Axes>"
      ]
     },
     "metadata": {
      "needs_background": "light"
     },
     "output_type": "display_data"
    },
    {
     "data": {
      "text/plain": [
       "pearson          0.000000 \n",
       "pearson_nopop   -28.718116\n",
       "nmf             -89.852388\n",
       "nmf_nopop       -90.448600\n",
       "Name: time, dtype: float64"
      ]
     },
     "execution_count": 92,
     "metadata": {},
     "output_type": "execute_result"
    }
   ],
   "source": [
    "scores['time'].plot.bar(rot=45)\n",
    "plt.title('Computational time comparisons')\n",
    "plt.show()\n",
    "\n",
    "comp = (scores.iloc[:,3] - scores.iloc[0,3]).div(scores.iloc[0,3]).mul(100)\n",
    "comp[1:].plot.bar()\n",
    "plt.title('Difference in computational time compared to baseline (%)')\n",
    "plt.show()\n",
    "\n",
    "comp"
   ]
  },
  {
   "cell_type": "markdown",
   "metadata": {},
   "source": [
    "## Conclusions and future work\n",
    "\n",
    "The straightforward analysis here shows that the NMF similariity model seems to outperform the baseline pearson similarity model in all metrics except for personalization which only exhibits a slight decrease. However, the computational time of the NMF similarity model is about 1/10th of the baseline which makes it the preferable model. It is also observed that culling popular movies did not show much improvement over the chosen model in this analysis schema.\n",
    "\n",
    "It should be noted that the analysis methodolgy chosen here is simplistic due to time constraints. There is tremendous potential in tuning certain hyperparameters using crossvalidation scores on the training set, especially the number of components for the NMF model, the number of recommendations in the MaP @ k metric, the number of user movies chosen to create similarities etc. Addtionally, genres and text information, including tags and the tag-genome data, were not utilized in this analysis method which could have been used to extract deep insight into user behavior. "
   ]
  }
 ],
 "metadata": {
  "colab": {
   "collapsed_sections": [],
   "name": "C3_recommender_system.ipynb",
   "provenance": [],
   "toc_visible": true
  },
  "kernelspec": {
   "display_name": "Python 3",
   "language": "python",
   "name": "python3"
  },
  "language_info": {
   "codemirror_mode": {
    "name": "ipython",
    "version": 3
   },
   "file_extension": ".py",
   "mimetype": "text/x-python",
   "name": "python",
   "nbconvert_exporter": "python",
   "pygments_lexer": "ipython3",
   "version": "3.7.4"
  }
 },
 "nbformat": 4,
 "nbformat_minor": 1
}
